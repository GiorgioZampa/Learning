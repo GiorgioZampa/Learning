{
 "cells": [
  {
   "cell_type": "code",
   "execution_count": 20,
   "metadata": {},
   "outputs": [],
   "source": [
    "import os\n",
    "from osgeo import gdal\n",
    "import rasterio\n",
    "from glob import glob"
   ]
  },
  {
   "cell_type": "code",
   "execution_count": 3,
   "metadata": {},
   "outputs": [
    {
     "data": {
      "text/plain": [
       "['LC08_L1TP_029047_20190203_20190206_01_T1_B7_c1.TIF',\n",
       " 'LC08_L1TP_029047_20190203_20190206_01_T1_B8_c1.TIF',\n",
       " 'LC08_L1TP_029047_20190203_20190206_01_T1_B3_c1.TIF',\n",
       " 'LC08_L1TP_029047_20190203_20190206_01_T1_B10_c1.TIF',\n",
       " 'LC08_L1TP_029047_20190203_20190206_01_T1_B2_c1.TIF',\n",
       " 'LC08_L1TP_029047_20190203_20190206_01_T1_B6_c1.TIF',\n",
       " 'LC08_L1TP_029047_20190203_20190206_01_T1_B4_c1.TIF',\n",
       " 'LC08_L1TP_029047_20190203_20190206_01_T1_B11_c1.TIF',\n",
       " 'LC08_L1TP_029047_20190203_20190206_01_T1_BQA_c1.TIF',\n",
       " 'LC08_L1TP_029047_20190203_20190206_01_T1_B5_c1.TIF',\n",
       " 'LC08_L1TP_029047_20190203_20190206_01_T1_B9_c1.TIF',\n",
       " 'LC08_L1TP_029047_20190203_20190206_01_T1_B1_c1.TIF']"
      ]
     },
     "execution_count": 3,
     "metadata": {},
     "output_type": "execute_result"
    }
   ],
   "source": [
    "# define paths\n",
    "input_path = \"../data/Landsat8/Images_c1/\"\n",
    "output_path = \"../data/Output/Clip/\"\n",
    "\n",
    "band_list = [band for band in os.listdir(input_path) if band[-4:] == '.TIF']\n",
    "band_list"
   ]
  },
  {
   "cell_type": "code",
   "execution_count": 7,
   "metadata": {},
   "outputs": [
    {
     "name": "stdout",
     "output_type": "stream",
     "text": [
      "../data/Output/Clip/LC08_L1TP_029047_20190203_20190206_01_T1_B7_c1_c2.TIF\n",
      "../data/Output/Clip/LC08_L1TP_029047_20190203_20190206_01_T1_B8_c1_c2.TIF\n",
      "../data/Output/Clip/LC08_L1TP_029047_20190203_20190206_01_T1_B3_c1_c2.TIF\n",
      "../data/Output/Clip/LC08_L1TP_029047_20190203_20190206_01_T1_B10_c1_c2.TIF\n",
      "../data/Output/Clip/LC08_L1TP_029047_20190203_20190206_01_T1_B2_c1_c2.TIF\n",
      "../data/Output/Clip/LC08_L1TP_029047_20190203_20190206_01_T1_B6_c1_c2.TIF\n",
      "../data/Output/Clip/LC08_L1TP_029047_20190203_20190206_01_T1_B4_c1_c2.TIF\n",
      "../data/Output/Clip/LC08_L1TP_029047_20190203_20190206_01_T1_B11_c1_c2.TIF\n",
      "../data/Output/Clip/LC08_L1TP_029047_20190203_20190206_01_T1_BQA_c1_c2.TIF\n",
      "../data/Output/Clip/LC08_L1TP_029047_20190203_20190206_01_T1_B5_c1_c2.TIF\n",
      "../data/Output/Clip/LC08_L1TP_029047_20190203_20190206_01_T1_B9_c1_c2.TIF\n",
      "../data/Output/Clip/LC08_L1TP_029047_20190203_20190206_01_T1_B1_c1_c2.TIF\n"
     ]
    }
   ],
   "source": [
    "aoi = \"../data/Shp/AOI_1.shp\"\n",
    "\n",
    "for band in band_list:\n",
    "    print(output_path + band[:-4]+'_c2'+band[-4:])\n",
    "    options = gdal.WarpOptions(cutlineDSName=aoi, cropToCutline=True)\n",
    "    out_band = gdal.Warp(srcDSOrSrcDSTab=input_path + band,\n",
    "                        destNameOrDestDS=output_path + band[:-4]+'_c2'+band[-4:],\n",
    "                        options=options)\n",
    "    out_band= None"
   ]
  }
 ],
 "metadata": {
  "kernelspec": {
   "display_name": "personal-env-KepkKAqv-py3.8",
   "language": "python",
   "name": "python3"
  },
  "language_info": {
   "codemirror_mode": {
    "name": "ipython",
    "version": 3
   },
   "file_extension": ".py",
   "mimetype": "text/x-python",
   "name": "python",
   "nbconvert_exporter": "python",
   "pygments_lexer": "ipython3",
   "version": "3.8.10"
  },
  "orig_nbformat": 4
 },
 "nbformat": 4,
 "nbformat_minor": 2
}
